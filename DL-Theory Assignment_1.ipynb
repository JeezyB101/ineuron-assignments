{
 "cells": [
  {
   "cell_type": "markdown",
   "id": "3a099b76",
   "metadata": {},
   "source": [
    "# 1. What is the function of a summation junction of a neuron? What is threshold activation function?"
   ]
  },
  {
   "cell_type": "raw",
   "id": "41c0e1a8",
   "metadata": {},
   "source": [
    "The Function of a Summation Junction is to linearly combine the input signals and synaptic weights. the formula is Summation(Wi*Xi) (where w is the respective weight of the input signal X) .\n",
    "When Input signal crosses the set threshold value then it gives the output this is called threshold activation function."
   ]
  },
  {
   "cell_type": "markdown",
   "id": "306d7f91",
   "metadata": {},
   "source": [
    "# 2. What is a step function? What is the difference of step function with threshold function?"
   ]
  },
  {
   "cell_type": "raw",
   "id": "4ec2034b",
   "metadata": {},
   "source": [
    "Step Function is a activation function used for binary classification where it gives output as either 0 or 1 depending upon the input signal and the set threshold value"
   ]
  },
  {
   "cell_type": "markdown",
   "id": "eb350e60",
   "metadata": {},
   "source": [
    "# 3. Explain the McCulloch–Pitts model of neuron."
   ]
  },
  {
   "cell_type": "raw",
   "id": "58391422",
   "metadata": {},
   "source": [
    "McCulloh-Pitts model is a basic model which takes 0 or 1 as input and give 0 or 1 as output. Each input could either be Positive or negative"
   ]
  },
  {
   "cell_type": "markdown",
   "id": "17bf016a",
   "metadata": {},
   "source": [
    "# 4. Explain the ADALINE network model."
   ]
  },
  {
   "cell_type": "raw",
   "id": "347c28e3",
   "metadata": {},
   "source": [
    "ADALINE is a single layered ANN which has multiple nodes and each nodes accept inputs and gives single output"
   ]
  },
  {
   "cell_type": "markdown",
   "id": "b9211c37",
   "metadata": {},
   "source": [
    "# 5. What is the constraint of a simple perceptron? Why it may fail with a real-world data set?"
   ]
  },
  {
   "cell_type": "raw",
   "id": "124808b3",
   "metadata": {},
   "source": [
    "i) Simple Perceptron can classify only linearly separable data\n",
    "ii) The Output values is 0 or 1\n",
    "Real World data may contain several different categories inside a data and it might not be possible to linearly separate the data and the output expectations may be in probabilities which a simple perceptron cannot cater to. Hence it will fail."
   ]
  },
  {
   "cell_type": "markdown",
   "id": "59f10af4",
   "metadata": {},
   "source": [
    "# 6. What is linearly inseparable problem? What is the role of the hidden layer?"
   ]
  },
  {
   "cell_type": "raw",
   "id": "5cc4b24c",
   "metadata": {},
   "source": [
    "Linearly Inseparable means the data is distributed in such a way that it cannot be classified or separated with a straight line.\n",
    "Role of Hidden Layer is to bring some linearity in the data, it transforms the data that can be used by output layers."
   ]
  },
  {
   "cell_type": "markdown",
   "id": "85497d82",
   "metadata": {},
   "source": [
    "# 7. Explain XOR problem in case of a simple perceptron."
   ]
  },
  {
   "cell_type": "raw",
   "id": "772162f8",
   "metadata": {},
   "source": [
    "XOR problem is that a simple perceptron cannot classify with a single linear boundary."
   ]
  },
  {
   "cell_type": "markdown",
   "id": "fb2341cc",
   "metadata": {},
   "source": [
    "# 8. Design a multi-layer perceptron to implement A XOR B."
   ]
  },
  {
   "cell_type": "raw",
   "id": "b296a2aa",
   "metadata": {},
   "source": [
    "for a XOR gate can be written as this combination : A XOR B= (A AND NOT B) OR (B AND NOT A)"
   ]
  },
  {
   "cell_type": "markdown",
   "id": "29d89237",
   "metadata": {},
   "source": [
    "# 9. Explain the single-layer feed forward architecture of ANN."
   ]
  },
  {
   "cell_type": "raw",
   "id": "e1c2b767",
   "metadata": {},
   "source": [
    "In Single Layer Feed Forward ANN the weights are passed onto the input layer and the cumulative value from each node is taken. Then the neurons give output layer to the output signals"
   ]
  },
  {
   "cell_type": "markdown",
   "id": "0f790e41",
   "metadata": {},
   "source": [
    "# 10. Explain the competitive network architecture of ANN."
   ]
  },
  {
   "cell_type": "raw",
   "id": "fef89da1",
   "metadata": {},
   "source": [
    "Competetive Network ANN is Neural network where the neurons are compared against each other to see which one is fit enough to represent the given input. "
   ]
  },
  {
   "cell_type": "markdown",
   "id": "f51bb758",
   "metadata": {},
   "source": [
    "# 11. Consider a multi-layer feed forward neural network. Enumerate and explain steps in the backpropagation algorithm used to train the network."
   ]
  },
  {
   "cell_type": "raw",
   "id": "05ae8336",
   "metadata": {},
   "source": [
    "In MLP the Backward Propogation happens in below mentioned steps:\n",
    "    1. Residual or Error is calculated based on the output from feed forward applying using cost function/Loss Function\n",
    "    2. Then Partial Derivatives for every unit is calculated using formula w*delta1*func(z) (where the w is weight, delta1 is the loss for the unit and the f(z) is the function of z(which is activation-value))\n",
    "    3. we have to compare the delta values with total loss to check which neurons contribute to the more loss.\n",
    "    4. Then we Update the weights using formula w(new) = W(old)-alpha*gradient(weight)\n",
    "    5. Thus re-iterating the process till we reach the minimal loss/error"
   ]
  },
  {
   "cell_type": "markdown",
   "id": "60e1164e",
   "metadata": {},
   "source": [
    "# 12. What are the advantages and disadvantages of neural networks?"
   ]
  },
  {
   "cell_type": "raw",
   "id": "86dc1b3c",
   "metadata": {},
   "source": [
    "Advantages of Neural Network:\n",
    "    1. It can handle Multiple tasks at once.\n",
    "    2. It has very wide range of applications in real world. In most business sectors NN can be used.\n",
    "    2. Neural Network can improvise by learning continuously\n",
    "\n",
    "Disadvantages of Neural Network:\n",
    "    1. For Developing Complex structures of ANN it may take long time.\n",
    "    2. Might not work properly with less data. It requires huge data to learn.\n",
    "    3. It reuqires huge Computational Power hence Hardware requirements are more."
   ]
  },
  {
   "cell_type": "markdown",
   "id": "5d971fcc",
   "metadata": {},
   "source": [
    "# 13. Write short notes on any two of the following:\n",
    "    1. Biological neuron\n",
    "    2. ReLU function\n",
    "    3. Single-layer feed forward ANN\n",
    "    4. Gradient descent\n",
    "    5. Recurrent networks"
   ]
  },
  {
   "cell_type": "raw",
   "id": "9b5b591c",
   "metadata": {},
   "source": [
    "1. Biological Neuron - It is the neuron which is present in human brain.In a biological neuron, the nucleus transforms the chemical inputs from the dendrites into electric signals. The signals are transmitted to the next neurons through the axon terminals.\n",
    "2. ReLU function - Stands for Rectified Linear Unit is an activation function used for various Neural Network problems. It is based on formula f(x) = max(0,x)\n",
    "3. Single-layer feed forward ANN - In Single Layer Feed Forward ANN the weights are passed onto the input layer and the cumulative value from each node is taken. Then the neurons give output layer to the output signals.\n",
    "4. Gradient descent - Gradient Descent is optimization technique and the goal is to reach the global minima for loss.\n",
    "5. Recurrent networks - RNN is a sequential model which keeps memory of previous steps and passes that to next input step thus making use of previous useful information for accurate predictions"
   ]
  },
  {
   "cell_type": "code",
   "execution_count": null,
   "id": "2a37f1a1",
   "metadata": {},
   "outputs": [],
   "source": []
  }
 ],
 "metadata": {
  "kernelspec": {
   "display_name": "Python 3",
   "language": "python",
   "name": "python3"
  },
  "language_info": {
   "codemirror_mode": {
    "name": "ipython",
    "version": 3
   },
   "file_extension": ".py",
   "mimetype": "text/x-python",
   "name": "python",
   "nbconvert_exporter": "python",
   "pygments_lexer": "ipython3",
   "version": "3.6.13"
  }
 },
 "nbformat": 4,
 "nbformat_minor": 5
}

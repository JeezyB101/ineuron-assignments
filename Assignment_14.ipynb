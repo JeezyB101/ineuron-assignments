{
 "cells": [
  {
   "cell_type": "markdown",
   "id": "8216c778",
   "metadata": {},
   "source": [
    "# 1. What does RGBA stand for?"
   ]
  },
  {
   "cell_type": "raw",
   "id": "9f341777",
   "metadata": {},
   "source": [
    "Red,Blue,Green and Alpha"
   ]
  },
  {
   "cell_type": "markdown",
   "id": "ac541110",
   "metadata": {},
   "source": [
    "# 2. From the Pillow module, how do you get the RGBA value of any images?"
   ]
  },
  {
   "cell_type": "raw",
   "id": "bf6a51d8",
   "metadata": {},
   "source": [
    "ImageColor.getcolor()"
   ]
  },
  {
   "cell_type": "markdown",
   "id": "29bd2ce4",
   "metadata": {},
   "source": [
    "# 3. What is a box tuple, and how does it work?"
   ]
  },
  {
   "cell_type": "raw",
   "id": "bb61791c",
   "metadata": {},
   "source": [
    "box tuple contains four coordinates of a rectangular image. Using those coordinates the image can be cropped."
   ]
  },
  {
   "cell_type": "markdown",
   "id": "4c96f44c",
   "metadata": {},
   "source": [
    "# 4. Use your image and load in notebook then, How can you find out the width and height of an Image object?"
   ]
  },
  {
   "cell_type": "code",
   "execution_count": 11,
   "id": "72893454",
   "metadata": {},
   "outputs": [
    {
     "data": {
      "text/plain": [
       "(493, 411)"
      ]
     },
     "execution_count": 11,
     "metadata": {},
     "output_type": "execute_result"
    }
   ],
   "source": [
    "from PIL import Image\n",
    "pic = Image.open('Capture.PNG')\n",
    "pic.size"
   ]
  },
  {
   "cell_type": "code",
   "execution_count": 7,
   "id": "04b4525b",
   "metadata": {},
   "outputs": [],
   "source": [
    "#width =493 and height = 411"
   ]
  },
  {
   "cell_type": "markdown",
   "id": "bfe1f877",
   "metadata": {},
   "source": [
    "# 5. What method would you call to get Image object for a 100×100 image, excluding the lower-left quarter of it?"
   ]
  },
  {
   "cell_type": "raw",
   "id": "e2822d12",
   "metadata": {},
   "source": [
    "image = Image.open('Capture.PNG)\n",
    "box = (88, 100, 100,87)\n",
    "crop_img = image.crop(box)"
   ]
  },
  {
   "cell_type": "markdown",
   "id": "99075dbb",
   "metadata": {},
   "source": [
    "# 6. After making changes to an Image object, how could you save it as an image file?"
   ]
  },
  {
   "cell_type": "raw",
   "id": "033b024e",
   "metadata": {},
   "source": [
    "changed_image.save('image_name.jpg')"
   ]
  },
  {
   "cell_type": "markdown",
   "id": "0c45a613",
   "metadata": {},
   "source": [
    "# 7. What module contains Pillow’s shape-drawing code?"
   ]
  },
  {
   "cell_type": "code",
   "execution_count": null,
   "id": "1e4b60c4",
   "metadata": {},
   "outputs": [],
   "source": [
    "ImageDraw module"
   ]
  },
  {
   "cell_type": "markdown",
   "id": "4025897f",
   "metadata": {},
   "source": [
    "# 8. Image objects do not have drawing methods. What kind of object does? How do you get this kind of object?"
   ]
  },
  {
   "cell_type": "raw",
   "id": "b7cae23f",
   "metadata": {},
   "source": [
    "using ImageDraw module we can create obj = ImageDraw.Draw(image)"
   ]
  }
 ],
 "metadata": {
  "kernelspec": {
   "display_name": "Python 3 (ipykernel)",
   "language": "python",
   "name": "python3"
  },
  "language_info": {
   "codemirror_mode": {
    "name": "ipython",
    "version": 3
   },
   "file_extension": ".py",
   "mimetype": "text/x-python",
   "name": "python",
   "nbconvert_exporter": "python",
   "pygments_lexer": "ipython3",
   "version": "3.9.7"
  }
 },
 "nbformat": 4,
 "nbformat_minor": 5
}

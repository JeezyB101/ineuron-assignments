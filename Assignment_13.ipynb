{
 "cells": [
  {
   "cell_type": "markdown",
   "id": "6ca41e0a",
   "metadata": {},
   "source": [
    "# 1. What advantages do Excel spreadsheets have over CSV spreadsheets?"
   ]
  },
  {
   "cell_type": "code",
   "execution_count": null,
   "id": "e2d72cad",
   "metadata": {},
   "outputs": [],
   "source": [
    "i> Excel has more functionalities and additional features to structurize and format data.\n",
    "ii> Lot of Calculations can be performed in Excel.\n",
    "iii> It can have infographics/charts which cannot save."
   ]
  },
  {
   "cell_type": "markdown",
   "id": "4fa7db58",
   "metadata": {},
   "source": [
    "# 2.What do you pass to csv.reader() and csv.writer() to create reader and writer objects?"
   ]
  },
  {
   "cell_type": "raw",
   "id": "8f82b041",
   "metadata": {},
   "source": [
    "csv_reader_object = csv.reader('file.csv',delimiter = \",\")"
   ]
  },
  {
   "cell_type": "raw",
   "id": "c1aa8fd0",
   "metadata": {},
   "source": [
    "csv_writer_object = csv.writer('file_path.csv',delimiter = \" \")"
   ]
  },
  {
   "cell_type": "markdown",
   "id": "04348cc9",
   "metadata": {},
   "source": [
    "# 3. What modes do File objects for reader and writer objects need to be opened in?"
   ]
  },
  {
   "cell_type": "raw",
   "id": "ff01717a",
   "metadata": {},
   "source": [
    "reader object should be opened in 'r' read-mode; Writer object should be opened in 'w' write-mode:"
   ]
  },
  {
   "cell_type": "markdown",
   "id": "3cf69872",
   "metadata": {},
   "source": [
    "# 4. What method takes a list argument and writes it to a CSV file?"
   ]
  },
  {
   "cell_type": "raw",
   "id": "1c72133f",
   "metadata": {},
   "source": [
    " csv_writer_obj.writerows(list)"
   ]
  },
  {
   "cell_type": "markdown",
   "id": "1575266f",
   "metadata": {},
   "source": [
    "# 5. What do the keyword arguments delimiter and line terminator do?"
   ]
  },
  {
   "cell_type": "code",
   "execution_count": null,
   "id": "b1f7be89",
   "metadata": {},
   "outputs": [],
   "source": [
    "delimiter seperates two vaues. While terminator comes at the end of the line."
   ]
  },
  {
   "cell_type": "markdown",
   "id": "a151d74c",
   "metadata": {},
   "source": [
    "# 6. What function takes a string of JSON data and returns a Python data structure?"
   ]
  },
  {
   "cell_type": "code",
   "execution_count": null,
   "id": "b719ff8e",
   "metadata": {},
   "outputs": [],
   "source": [
    "json.loads()"
   ]
  },
  {
   "cell_type": "markdown",
   "id": "b1f3f91f",
   "metadata": {},
   "source": [
    "# 7. What function takes a Python data structure and returns a string of JSON data?"
   ]
  },
  {
   "cell_type": "code",
   "execution_count": null,
   "id": "b55b7a8d",
   "metadata": {},
   "outputs": [],
   "source": [
    "json.dumps()"
   ]
  }
 ],
 "metadata": {
  "kernelspec": {
   "display_name": "Python 3 (ipykernel)",
   "language": "python",
   "name": "python3"
  },
  "language_info": {
   "codemirror_mode": {
    "name": "ipython",
    "version": 3
   },
   "file_extension": ".py",
   "mimetype": "text/x-python",
   "name": "python",
   "nbconvert_exporter": "python",
   "pygments_lexer": "ipython3",
   "version": "3.9.7"
  }
 },
 "nbformat": 4,
 "nbformat_minor": 5
}

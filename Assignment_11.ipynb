{
 "cells": [
  {
   "cell_type": "markdown",
   "id": "7b8a2de1",
   "metadata": {},
   "source": [
    "# 1. Create an assert statement that throws an AssertionError if the variable spam is a negative\n",
    "integer."
   ]
  },
  {
   "cell_type": "raw",
   "id": "977d4506",
   "metadata": {},
   "source": [
    "assert spam > 0, 'spam var is negative.'"
   ]
  },
  {
   "cell_type": "markdown",
   "id": "fbbeb3e5",
   "metadata": {},
   "source": [
    "# 2. Write an assert statement that triggers an AssertionError if the variables eggs and bacon containstrings that are the same as each other, even if their cases are different (that is, 'hello' and 'hello' are considered the same, and 'goodbye' and 'GOODbye' are also considered the same)."
   ]
  },
  {
   "cell_type": "raw",
   "id": "d65841dd",
   "metadata": {},
   "source": [
    "eggs= 'rotTen'\n",
    "bacon = 'rotten'\n",
    "\n",
    "assert eggs.lower()!=bacon.lower(), 'Please check both contains same value'"
   ]
  },
  {
   "cell_type": "markdown",
   "id": "4475947e",
   "metadata": {},
   "source": [
    "# 3. Create an assert statement that throws an AssertionError every time."
   ]
  },
  {
   "cell_type": "raw",
   "id": "24a22e8f",
   "metadata": {},
   "source": [
    "assert False, 'It will trigger AssertionError always'"
   ]
  },
  {
   "cell_type": "markdown",
   "id": "3ee16527",
   "metadata": {},
   "source": [
    "# 4. What are the two lines that must be present in your software in order to call logging.debug()?"
   ]
  },
  {
   "cell_type": "raw",
   "id": "27ce999e",
   "metadata": {},
   "source": [
    "a.import logging as lg\n",
    "b.lg.basicConfig(filename = 'xyz', level = 'logging.DEBUG', format = \"%(asctime)s %(levelname)s %(message)s\")"
   ]
  },
  {
   "cell_type": "markdown",
   "id": "8ccf6ef7",
   "metadata": {},
   "source": [
    "# 5. What are the two lines that your program must have in order to have logging.debug() send a logging message to a file named programLog.txt?"
   ]
  },
  {
   "cell_type": "raw",
   "id": "685b7cbf",
   "metadata": {},
   "source": [
    "a.import logging as lg\n",
    "b.lg.basicConfig(filename = 'programLog.txt', level = 'logging.DEBUG', format = \"%(asctime)s %(levelname)s %(message)s\")"
   ]
  },
  {
   "cell_type": "markdown",
   "id": "281151be",
   "metadata": {},
   "source": [
    "# 6. What are the five levels of logging? "
   ]
  },
  {
   "cell_type": "raw",
   "id": "a3b12d6e",
   "metadata": {},
   "source": [
    "logging.INFO\n",
    "logging.DEBUG\n",
    "logging.WARNING\n",
    "logging.ERROR\n",
    "logging.CRITICAL"
   ]
  },
  {
   "cell_type": "markdown",
   "id": "01fd20d4",
   "metadata": {},
   "source": [
    "# 7. What line of code would you add to your software to disable all logging messages?"
   ]
  },
  {
   "cell_type": "code",
   "execution_count": 16,
   "id": "fcf4b30a",
   "metadata": {},
   "outputs": [],
   "source": [
    "logging.disable(logging.WARNING )"
   ]
  },
  {
   "cell_type": "markdown",
   "id": "54cd6ea9",
   "metadata": {},
   "source": [
    "# 8.Why is using logging messages better than using print() to display the same message?"
   ]
  },
  {
   "cell_type": "raw",
   "id": "204c7997",
   "metadata": {},
   "source": [
    "logging messages contains details like timestamp. Logging can toggled on/off using logging.disable(). "
   ]
  },
  {
   "cell_type": "markdown",
   "id": "e90033df",
   "metadata": {},
   "source": [
    "# 9. What are the differences between the Step Over, Step In, and Step Out buttons in the debugger?"
   ]
  },
  {
   "cell_type": "raw",
   "id": "0c1eb793",
   "metadata": {},
   "source": [
    "The Step-Over will run the function without stepping in it.The Step-In will move debugger inside the function. The Step-Out runs the rest of the code until it steps out of the current function."
   ]
  },
  {
   "cell_type": "markdown",
   "id": "8d1c7b3b",
   "metadata": {},
   "source": [
    "# 10.After you click Continue, when will the debugger stop ?"
   ]
  },
  {
   "cell_type": "raw",
   "id": "498640cd",
   "metadata": {},
   "source": [
    "If we click continue the debugger will run till program completes or it stops at a breakpoint if any."
   ]
  },
  {
   "cell_type": "markdown",
   "id": "2d78ca02",
   "metadata": {},
   "source": [
    "# 11. What is the concept of a breakpoint?"
   ]
  },
  {
   "cell_type": "raw",
   "id": "57d638b2",
   "metadata": {},
   "source": [
    "Breakpoint is a checkpoint which breaks the execution temporarily while debugging at the specified point. This makes the debugging easy."
   ]
  }
 ],
 "metadata": {
  "kernelspec": {
   "display_name": "Python 3 (ipykernel)",
   "language": "python",
   "name": "python3"
  },
  "language_info": {
   "codemirror_mode": {
    "name": "ipython",
    "version": 3
   },
   "file_extension": ".py",
   "mimetype": "text/x-python",
   "name": "python",
   "nbconvert_exporter": "python",
   "pygments_lexer": "ipython3",
   "version": "3.9.7"
  }
 },
 "nbformat": 4,
 "nbformat_minor": 5
}

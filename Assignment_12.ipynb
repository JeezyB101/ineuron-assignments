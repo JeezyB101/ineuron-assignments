{
 "cells": [
  {
   "cell_type": "markdown",
   "id": "e4bb09d8",
   "metadata": {},
   "source": [
    "# 1. In what modes should the PdfFileReader() and PdfFileWriter() File objects will be opened?"
   ]
  },
  {
   "cell_type": "raw",
   "id": "7b1540ff",
   "metadata": {},
   "source": [
    "PdfFileReader() and PdfFileWriter()  objects are opened in read-binary mode ('rb') and write-binary mode ('wb') respectively."
   ]
  },
  {
   "cell_type": "markdown",
   "id": "2fb2acf2",
   "metadata": {},
   "source": [
    "# 2. From a PdfFileReader object, how do you get a Page object for page 5?"
   ]
  },
  {
   "cell_type": "raw",
   "id": "fd47635a",
   "metadata": {},
   "source": [
    "pdf_file_Obj = open(\"my_pdf.pdf\",'rb')\n",
    "pdf_reader = pdf.PdfFileReader(pdf_file_Obj)\n",
    "pdf_reader.getpage(5)"
   ]
  },
  {
   "cell_type": "markdown",
   "id": "b27e98fe",
   "metadata": {},
   "source": [
    "# 3. What PdfFileReader variable stores the number of pages in the PDF document?"
   ]
  },
  {
   "cell_type": "raw",
   "id": "8c7272cb",
   "metadata": {},
   "source": [
    "pdf_reader.numPages"
   ]
  },
  {
   "cell_type": "markdown",
   "id": "54a37038",
   "metadata": {},
   "source": [
    "# 4. If a PdfFileReader object’s PDF is encrypted with the password swordfish, what must you do\n",
    "before you can obtain Page objects from it?"
   ]
  },
  {
   "cell_type": "code",
   "execution_count": 14,
   "id": "ad1acff4",
   "metadata": {},
   "outputs": [],
   "source": [
    "pdf_reader.decrypt(swordfish)"
   ]
  },
  {
   "cell_type": "markdown",
   "id": "ff94c849",
   "metadata": {},
   "source": [
    "# 5. What methods do you use to rotate a page?"
   ]
  },
  {
   "cell_type": "raw",
   "id": "12ce23d4",
   "metadata": {},
   "source": [
    "page_object.rotateCounterClockwise(degrees) or page_object.rotateClockwise(degrees)"
   ]
  },
  {
   "cell_type": "markdown",
   "id": "552a3462",
   "metadata": {},
   "source": [
    "# 6. What is the difference between a Run object and a Paragraph object?"
   ]
  },
  {
   "cell_type": "raw",
   "id": "290ecf4f",
   "metadata": {},
   "source": [
    "Run Object is for inline. Paragraph contains multiple run objects like images, test etc. "
   ]
  },
  {
   "cell_type": "markdown",
   "id": "6387e84b",
   "metadata": {},
   "source": [
    "# 7. How do you obtain a list of Paragraph objects for a Document object that’s stored in a variable named doc?"
   ]
  },
  {
   "cell_type": "raw",
   "id": "f747ad7f",
   "metadata": {},
   "source": [
    "import docx\n",
    "document = docx.Document('xyz.docx')\n",
    "document.paragraphs"
   ]
  },
  {
   "cell_type": "markdown",
   "id": "ecc372b0",
   "metadata": {},
   "source": [
    "# 8. What type of object has bold, underline, italic, strike, and outline variables?"
   ]
  },
  {
   "cell_type": "raw",
   "id": "2a3263e2",
   "metadata": {},
   "source": [
    "Run object"
   ]
  },
  {
   "cell_type": "markdown",
   "id": "cc2af77b",
   "metadata": {},
   "source": [
    "# 9. What is the difference between False, True, and None for the bold variable?"
   ]
  },
  {
   "cell_type": "raw",
   "id": "976ac64d",
   "metadata": {},
   "source": [
    "False means the variable is inactive. True means the variable is active and None means it follows the run style."
   ]
  },
  {
   "cell_type": "markdown",
   "id": "8c25637b",
   "metadata": {},
   "source": [
    "# 10. How do you create a Document object for a new Word document?"
   ]
  },
  {
   "cell_type": "raw",
   "id": "03cc1b97",
   "metadata": {},
   "source": [
    "document = docx.Document('xyz.docx')"
   ]
  },
  {
   "cell_type": "markdown",
   "id": "f4be4463",
   "metadata": {},
   "source": [
    "# 11. How do you add a paragraph with the text &#39;Hello, there!&#39; to a Document object stored in a variable named doc?"
   ]
  },
  {
   "cell_type": "raw",
   "id": "33952406",
   "metadata": {},
   "source": [
    "add_paragraph() method"
   ]
  },
  {
   "cell_type": "markdown",
   "id": "507c4383",
   "metadata": {},
   "source": [
    "# 12. What integers represent the levels of headings available in Word documents?"
   ]
  },
  {
   "cell_type": "raw",
   "id": "d084cd15",
   "metadata": {},
   "source": [
    "1-4"
   ]
  }
 ],
 "metadata": {
  "kernelspec": {
   "display_name": "Python 3 (ipykernel)",
   "language": "python",
   "name": "python3"
  },
  "language_info": {
   "codemirror_mode": {
    "name": "ipython",
    "version": 3
   },
   "file_extension": ".py",
   "mimetype": "text/x-python",
   "name": "python",
   "nbconvert_exporter": "python",
   "pygments_lexer": "ipython3",
   "version": "3.9.7"
  }
 },
 "nbformat": 4,
 "nbformat_minor": 5
}

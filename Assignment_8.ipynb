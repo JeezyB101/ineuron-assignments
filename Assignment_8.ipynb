{
 "cells": [
  {
   "cell_type": "markdown",
   "id": "c7a8c7c8",
   "metadata": {},
   "source": [
    "# 1.\tIs the Python Standard Library included with PyInputPlus?"
   ]
  },
  {
   "cell_type": "raw",
   "id": "d88970c5",
   "metadata": {},
   "source": [
    "Ans:  No it has to be installed separately."
   ]
  },
  {
   "cell_type": "markdown",
   "id": "a3843c0b",
   "metadata": {},
   "source": [
    "# 2.\tWhy is PyInputPlus commonly imported with import pyinputplus as pypip?"
   ]
  },
  {
   "cell_type": "raw",
   "id": "4b14e9a5",
   "metadata": {},
   "source": [
    "Ans: It is just an alias. Because PyPi is a default python repository"
   ]
  },
  {
   "cell_type": "markdown",
   "id": "c1a1d414",
   "metadata": {},
   "source": [
    "# 3.\tHow do you distinguish between inputInt() and inputFloat()?"
   ]
  },
  {
   "cell_type": "raw",
   "id": "d513e1f3",
   "metadata": {},
   "source": [
    "Ans: InputInt () will only accept integers along with conditional operators and returns integer value. While inputFloat() will accept Float Values with conditional operators and returns Float"
   ]
  },
  {
   "cell_type": "markdown",
   "id": "3f0ffede",
   "metadata": {},
   "source": [
    "# 4.\tUsing PyInputPlus, how do you ensure that the user enters a whole number between 0 and 99?"
   ]
  },
  {
   "cell_type": "code",
   "execution_count": null,
   "id": "70aae2ae",
   "metadata": {},
   "outputs": [],
   "source": [
    "Ans:-  pypip.inputInt(prompt='Please Enter a Number between 0-99', min=0, max = 99) "
   ]
  },
  {
   "cell_type": "markdown",
   "id": "0353d974",
   "metadata": {},
   "source": [
    "# 5.\tWhat is transferred to the keyword arguments allowRegexes and blockRegexes?"
   ]
  },
  {
   "cell_type": "raw",
   "id": "c4d665cd",
   "metadata": {},
   "source": [
    "Ans:  allowRegexes – are used to take a regex which is valid and blockRegexes – is used to take regex which is invalid and hence it is rejected ."
   ]
  },
  {
   "cell_type": "markdown",
   "id": "54fe82a7",
   "metadata": {},
   "source": [
    "# 6.\tIf a blank input is entered three times, what does inputStr(limit=3) do?"
   ]
  },
  {
   "cell_type": "raw",
   "id": "c18a0100",
   "metadata": {},
   "source": [
    " Ans:  It throws an error saying the retry limit exception."
   ]
  },
  {
   "cell_type": "markdown",
   "id": "3eb969c3",
   "metadata": {},
   "source": [
    "# 7.\tIf blank input is entered three times, what does inputStr(limit=3, default='hello') do?"
   ]
  },
  {
   "cell_type": "raw",
   "id": "8894cdc2",
   "metadata": {},
   "source": [
    "Ans:  It prints the default  value ‘hello’"
   ]
  }
 ],
 "metadata": {
  "kernelspec": {
   "display_name": "Python 3",
   "language": "python",
   "name": "python3"
  },
  "language_info": {
   "codemirror_mode": {
    "name": "ipython",
    "version": 3
   },
   "file_extension": ".py",
   "mimetype": "text/x-python",
   "name": "python",
   "nbconvert_exporter": "python",
   "pygments_lexer": "ipython3",
   "version": "3.6.13"
  }
 },
 "nbformat": 4,
 "nbformat_minor": 5
}

{
 "cells": [
  {
   "cell_type": "markdown",
   "id": "e32abcb8",
   "metadata": {},
   "source": [
    "# 1. What is the name of the feature responsible for generating Regex objects?"
   ]
  },
  {
   "cell_type": "raw",
   "id": "5986b331",
   "metadata": {},
   "source": [
    "Ans: - re.compile function is responsible for generating Regex objects"
   ]
  },
  {
   "cell_type": "code",
   "execution_count": null,
   "id": "42fb482e",
   "metadata": {},
   "outputs": [],
   "source": []
  },
  {
   "cell_type": "markdown",
   "id": "5fe17d65",
   "metadata": {},
   "source": [
    "# 2. Why do raw strings often appear in Regex objects?"
   ]
  },
  {
   "cell_type": "raw",
   "id": "52e77356",
   "metadata": {},
   "source": [
    "Ans: Raw strings are used to avoid escaping backslashes."
   ]
  },
  {
   "cell_type": "code",
   "execution_count": null,
   "id": "7f0eb727",
   "metadata": {},
   "outputs": [],
   "source": []
  },
  {
   "cell_type": "markdown",
   "id": "4c600bda",
   "metadata": {},
   "source": [
    "# 3. What is the return value of the search() method?"
   ]
  },
  {
   "cell_type": "raw",
   "id": "0d5a819c",
   "metadata": {},
   "source": [
    "Ans: It returns the matched value.It returns None if no match is found"
   ]
  },
  {
   "cell_type": "markdown",
   "id": "48cabcb4",
   "metadata": {},
   "source": [
    "# 4. From a Match item, how do you get the actual strings that match the pattern?"
   ]
  },
  {
   "cell_type": "raw",
   "id": "99c2d963",
   "metadata": {},
   "source": [
    "Ans: We need to use group() method on the match item obect. ex- Match_object.group()"
   ]
  },
  {
   "cell_type": "markdown",
   "id": "51610790",
   "metadata": {},
   "source": [
    "# 5.  In the regex which created from the r'(\\d\\d\\d)-(\\d\\d\\d-\\d\\d\\d\\d)', what does group zero cover? Group 2? Group 1?"
   ]
  },
  {
   "cell_type": "raw",
   "id": "00ae2edc",
   "metadata": {},
   "source": [
    "Ans: Group zero is used for complete match, group-1 consists of search pattern in first bracket, and group-2 consists the second bracket set."
   ]
  },
  {
   "cell_type": "code",
   "execution_count": null,
   "id": "243a0ac6",
   "metadata": {},
   "outputs": [],
   "source": []
  },
  {
   "cell_type": "markdown",
   "id": "24034e24",
   "metadata": {},
   "source": [
    "# 6. In standard expression syntax, parentheses and intervals have distinct meanings. How can you tell a regex that you want it to fit real parentheses and periods?"
   ]
  },
  {
   "cell_type": "raw",
   "id": "c25c4683",
   "metadata": {},
   "source": [
    "Ans: By using backslash we can escape the parenthesis and periods that needs to be included as real character."
   ]
  },
  {
   "cell_type": "code",
   "execution_count": null,
   "id": "1ef3e898",
   "metadata": {},
   "outputs": [],
   "source": []
  },
  {
   "cell_type": "markdown",
   "id": "84f3dbfd",
   "metadata": {},
   "source": [
    "# 7. The findall() method returns a string list or a list of string tuples. What causes it to return one of the two options?"
   ]
  },
  {
   "cell_type": "raw",
   "id": "309a6575",
   "metadata": {},
   "source": [
    "Ans: If there are multiple groups then list of string tuples are returned or else by default it returns string list."
   ]
  },
  {
   "cell_type": "code",
   "execution_count": null,
   "id": "e5135844",
   "metadata": {},
   "outputs": [],
   "source": []
  },
  {
   "cell_type": "markdown",
   "id": "c7e5a759",
   "metadata": {},
   "source": [
    "# 8. In standard expressions, what does the | character mean?"
   ]
  },
  {
   "cell_type": "raw",
   "id": "649636bb",
   "metadata": {},
   "source": [
    "Ans: | this character means or"
   ]
  },
  {
   "cell_type": "code",
   "execution_count": null,
   "id": "a5cfa94e",
   "metadata": {},
   "outputs": [],
   "source": []
  },
  {
   "cell_type": "markdown",
   "id": "5bf9bb14",
   "metadata": {},
   "source": [
    "# 9. In regular expressions, what does the character stand for?"
   ]
  },
  {
   "cell_type": "raw",
   "id": "469bf6ff",
   "metadata": {},
   "source": [
    "Ans: comma is used for seperating strings"
   ]
  },
  {
   "cell_type": "code",
   "execution_count": null,
   "id": "56890262",
   "metadata": {},
   "outputs": [],
   "source": []
  },
  {
   "cell_type": "markdown",
   "id": "0dddc9b5",
   "metadata": {},
   "source": [
    "# 10.In regular expressions, what is the difference between the + and * characters?"
   ]
  },
  {
   "cell_type": "raw",
   "id": "b0e1c278",
   "metadata": {},
   "source": [
    "Ans: * is used to look for smallest match including 0, while + will look for matches from 1 or more"
   ]
  },
  {
   "cell_type": "code",
   "execution_count": null,
   "id": "c2a6508c",
   "metadata": {},
   "outputs": [],
   "source": []
  },
  {
   "cell_type": "markdown",
   "id": "b3ee5ccf",
   "metadata": {},
   "source": [
    "# 11. What is the difference between {4} and {4,5} in regular expression?"
   ]
  },
  {
   "cell_type": "raw",
   "id": "267dacaa",
   "metadata": {},
   "source": [
    "{4} - This is 4 times match exactly \n",
    "{4,5}- This is 4 to 5 repetitions"
   ]
  },
  {
   "cell_type": "code",
   "execution_count": null,
   "id": "c3e12fd3",
   "metadata": {},
   "outputs": [],
   "source": []
  },
  {
   "cell_type": "markdown",
   "id": "e4e3a209",
   "metadata": {},
   "source": [
    "# 12. What do you mean by the \\d, \\w, and \\s shorthand character classes signify in regular expressions?"
   ]
  },
  {
   "cell_type": "raw",
   "id": "988ec48b",
   "metadata": {},
   "source": [
    "Ans: \\d - Matches any numbers/decimals between 0-9\n",
    "     \\w - matches alphanumeric characters\n",
    "     \\s - This matches white spaces"
   ]
  },
  {
   "cell_type": "code",
   "execution_count": null,
   "id": "b9d34003",
   "metadata": {},
   "outputs": [],
   "source": []
  },
  {
   "cell_type": "markdown",
   "id": "d90c98a8",
   "metadata": {},
   "source": [
    "# 13. What do means by \\D, \\W, and \\S shorthand character classes signify in regular expressions?"
   ]
  },
  {
   "cell_type": "raw",
   "id": "5d470e50",
   "metadata": {},
   "source": [
    "Ans: \\D - Match any character except decimal digit"
   ]
  },
  {
   "cell_type": "code",
   "execution_count": null,
   "id": "14b60751",
   "metadata": {},
   "outputs": [],
   "source": []
  },
  {
   "cell_type": "markdown",
   "id": "cb954d68",
   "metadata": {},
   "source": [
    "# 14. What is the difference between .*? and .*?"
   ]
  },
  {
   "cell_type": "raw",
   "id": "93b589a3",
   "metadata": {},
   "source": [
    "Ans:  .* - using this will match the complete string\n",
    "      .*? - using this will match very less possible characters"
   ]
  },
  {
   "cell_type": "code",
   "execution_count": null,
   "id": "b2493767",
   "metadata": {},
   "outputs": [],
   "source": []
  },
  {
   "cell_type": "code",
   "execution_count": null,
   "id": "e6d58673",
   "metadata": {},
   "outputs": [],
   "source": []
  },
  {
   "cell_type": "markdown",
   "id": "b190fcca",
   "metadata": {},
   "source": [
    "# 15. What is the syntax for matching both numbers and lowercase letters with a character class?"
   ]
  },
  {
   "cell_type": "raw",
   "id": "29160b2f",
   "metadata": {},
   "source": [
    "Ans: [a-z0-9]"
   ]
  },
  {
   "cell_type": "code",
   "execution_count": null,
   "id": "0bcc00ca",
   "metadata": {},
   "outputs": [],
   "source": []
  },
  {
   "cell_type": "markdown",
   "id": "c0e0347b",
   "metadata": {},
   "source": [
    "# 16. What is the procedure for making a normal expression in regex case insensitive?"
   ]
  },
  {
   "cell_type": "raw",
   "id": "619bba3b",
   "metadata": {},
   "source": [
    "Ans: by using re.IGNORECASE"
   ]
  },
  {
   "cell_type": "code",
   "execution_count": null,
   "id": "434ae746",
   "metadata": {},
   "outputs": [],
   "source": []
  },
  {
   "cell_type": "markdown",
   "id": "0f60827c",
   "metadata": {},
   "source": [
    "# 17. What does the . character normally match? What does it match if re.DOTALL is passed as 2nd argument in re.compile()?"
   ]
  },
  {
   "cell_type": "raw",
   "id": "01f6f56b",
   "metadata": {},
   "source": [
    "Ans. . character matches every other character but only new line characters is not matched.\n",
    "if re.DOTALL is 2nd argument in re.compile then it will match new line character also."
   ]
  },
  {
   "cell_type": "code",
   "execution_count": null,
   "id": "ed1a6f10",
   "metadata": {},
   "outputs": [],
   "source": []
  },
  {
   "cell_type": "markdown",
   "id": "993aaab3",
   "metadata": {},
   "source": [
    "# 18. If numReg = re.compile(r'\\d+'), what will numRegex.sub('X', '11 drummers, 10 pipers, five rings, 4 hen') return?"
   ]
  },
  {
   "cell_type": "raw",
   "id": "14e463fa",
   "metadata": {},
   "source": [
    "Ans.  'X drummers, X pipers, five rings, X hens'"
   ]
  },
  {
   "cell_type": "code",
   "execution_count": null,
   "id": "9d348274",
   "metadata": {},
   "outputs": [],
   "source": []
  },
  {
   "cell_type": "markdown",
   "id": "0deb521d",
   "metadata": {},
   "source": [
    "# 19. What does passing re.VERBOSE as the 2nd argument to re.compile() allow to do?"
   ]
  },
  {
   "cell_type": "raw",
   "id": "c2642f41",
   "metadata": {},
   "source": [
    "Ans: re.VERBOSE as the 2nd argument to re.compile() allows to add white-space and comments to re.compile() string."
   ]
  },
  {
   "cell_type": "code",
   "execution_count": null,
   "id": "7009576b",
   "metadata": {},
   "outputs": [],
   "source": []
  },
  {
   "cell_type": "markdown",
   "id": "d02d77a1",
   "metadata": {},
   "source": [
    "# 20. How would you write a regex that match a number with comma for every three digits? It must match the given following:\n",
    "'42'\n",
    "'1,234'\n",
    "'6,368,745'\n",
    "but not the following:\n",
    "'12,34,567' (which has only two digits between the commas)\n",
    "'1234' (which lacks commas)\n"
   ]
  },
  {
   "cell_type": "raw",
   "id": "b205ef8f",
   "metadata": {},
   "source": [
    "Ans: re.compile(r'\\d{1,3}(,{3})*')"
   ]
  },
  {
   "cell_type": "code",
   "execution_count": null,
   "id": "97a47558",
   "metadata": {},
   "outputs": [],
   "source": []
  },
  {
   "cell_type": "markdown",
   "id": "41010e0a",
   "metadata": {},
   "source": [
    "# 21. How would you write a regex that matches the full name of someone whose last name is Watanabe? You can assume that the first name that comes before it will always be one word that begins with a capital letter. The regex must match the following:\n",
    "'Haruto Watanabe'\n",
    "'Alice Watanabe'\n",
    "'RoboCop Watanabe'\n",
    "but not the following:\n",
    "'haruto Watanabe' (where the first name is not capitalized)\n",
    "'Mr. Watanabe' (where the preceding word has a nonletter character)\n",
    "'Watanabe' (which has no first name)\n",
    "'Haruto watanabe' (where Watanabe is not capitalized)\n",
    " "
   ]
  },
  {
   "cell_type": "raw",
   "id": "0cba11e8",
   "metadata": {},
   "source": [
    "Ans: re.compile(r'[A-Z][a-z]\\sWatanabe') this regex should give the match with the above conditions"
   ]
  },
  {
   "cell_type": "code",
   "execution_count": null,
   "id": "a14bb63f",
   "metadata": {},
   "outputs": [],
   "source": []
  },
  {
   "cell_type": "markdown",
   "id": "d5a9d871",
   "metadata": {},
   "source": [
    "# 22. How would you write a regex that matches a sentence where the first word is either Alice, Bob, or Carol; the second word is either eats, pets, or throws; the third word is apples, cats, or baseballs; and the sentence ends with a period? This regex should be case-insensitive. It must match the following:\n",
    "'Alice eats apples.'\n",
    "'Bob pets cats.'\n",
    "'Carol throws baseballs.'\n",
    "'Alice throws Apples.'\n",
    "'BOB EATS CATS.'\n",
    "but not the following:\n",
    "'RoboCop eats apples.'\n",
    "'ALICE THROWS FOOTBALLS.'\n",
    "'Carol eats 7 cats.'\n"
   ]
  },
  {
   "cell_type": "raw",
   "id": "8d5e3457",
   "metadata": {},
   "source": [
    "Ans:re.compile(r'(Alice|Bob|Carol)\\s(eats|pets|throws)\\ s(apples|cats|baseballs)\\.', re.IGNORECASE)"
   ]
  }
 ],
 "metadata": {
  "kernelspec": {
   "display_name": "Python 3 (ipykernel)",
   "language": "python",
   "name": "python3"
  },
  "language_info": {
   "codemirror_mode": {
    "name": "ipython",
    "version": 3
   },
   "file_extension": ".py",
   "mimetype": "text/x-python",
   "name": "python",
   "nbconvert_exporter": "python",
   "pygments_lexer": "ipython3",
   "version": "3.9.7"
  }
 },
 "nbformat": 4,
 "nbformat_minor": 5
}

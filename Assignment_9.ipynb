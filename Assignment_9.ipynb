{
 "cells": [
  {
   "cell_type": "markdown",
   "id": "b7e9c305",
   "metadata": {},
   "source": [
    "# 1. To what does a relative path refer?"
   ]
  },
  {
   "cell_type": "raw",
   "id": "920cadf5",
   "metadata": {},
   "source": [
    "Ans: Relative path refers to the location of the file which are in current directory"
   ]
  },
  {
   "cell_type": "markdown",
   "id": "4f773a7b",
   "metadata": {},
   "source": [
    "# 2. What does an absolute path start with your operating system?"
   ]
  },
  {
   "cell_type": "raw",
   "id": "6b4a9ae5",
   "metadata": {},
   "source": [
    "Ans: Absolute path starts with '/' symbol and starts with home directory"
   ]
  },
  {
   "cell_type": "markdown",
   "id": "7222a14d",
   "metadata": {},
   "source": [
    "# 3. What do the functions os.getcwd() and os.chdir() do?"
   ]
  },
  {
   "cell_type": "raw",
   "id": "9e8e3b8a",
   "metadata": {},
   "source": [
    "Ans:os.getcwd() gives us the current working directory\n",
    "    os.chdir() changes the directory to the specified location"
   ]
  },
  {
   "cell_type": "markdown",
   "id": "6e77264e",
   "metadata": {},
   "source": [
    "# 4. What are the . and .. folders?"
   ]
  },
  {
   "cell_type": "raw",
   "id": "df2940d8",
   "metadata": {},
   "source": [
    "Ans:  single. represents Current directory and double . represents parent directory"
   ]
  },
  {
   "cell_type": "markdown",
   "id": "19618313",
   "metadata": {},
   "source": [
    "# 5. In C:\\bacon\\eggs\\spam.txt, which part is the dir name, and which part is the base name?"
   ]
  },
  {
   "cell_type": "raw",
   "id": "61b25b2d",
   "metadata": {},
   "source": [
    " Ans: C:\\bacon\\eggs\\ this is actual directory and spam.txt is a base name."
   ]
  },
  {
   "cell_type": "markdown",
   "id": "6f21a240",
   "metadata": {},
   "source": [
    "# 6. What are the three “mode” arguments that can be passed to the open() function?"
   ]
  },
  {
   "cell_type": "raw",
   "id": "fb761aab",
   "metadata": {},
   "source": [
    "Ans: mode = 'r' (read), mode = 'w' (write), mode = 'r+' (read and write), mode = 'wb' (write binary), mode = 'rb' (read binary)"
   ]
  },
  {
   "cell_type": "markdown",
   "id": "abe2dfcb",
   "metadata": {},
   "source": [
    "# 7. What happens if an existing file is opened in write mode?"
   ]
  },
  {
   "cell_type": "raw",
   "id": "8262ef3e",
   "metadata": {},
   "source": [
    "Ans: We can add content to the file but cannot read it."
   ]
  },
  {
   "cell_type": "markdown",
   "id": "67eb8b78",
   "metadata": {},
   "source": [
    "# 8. How do you tell the difference between read() and readlines()?"
   ]
  },
  {
   "cell_type": "raw",
   "id": "eb99d2b6",
   "metadata": {},
   "source": [
    "Ans: read() will read the entire file while the readlines() single line of the file"
   ]
  },
  {
   "cell_type": "markdown",
   "id": "37cea3f4",
   "metadata": {},
   "source": [
    "# 9. What data structure does a shelf value resemble?"
   ]
  },
  {
   "cell_type": "raw",
   "id": "e3a929e3",
   "metadata": {},
   "source": [
    "Ans: It is exactly like a dictionary with key:value pairs"
   ]
  }
 ],
 "metadata": {
  "kernelspec": {
   "display_name": "Python 3",
   "language": "python",
   "name": "python3"
  },
  "language_info": {
   "codemirror_mode": {
    "name": "ipython",
    "version": 3
   },
   "file_extension": ".py",
   "mimetype": "text/x-python",
   "name": "python",
   "nbconvert_exporter": "python",
   "pygments_lexer": "ipython3",
   "version": "3.6.13"
  }
 },
 "nbformat": 4,
 "nbformat_minor": 5
}

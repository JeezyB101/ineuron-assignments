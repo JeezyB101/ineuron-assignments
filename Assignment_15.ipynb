{
 "cells": [
  {
   "cell_type": "markdown",
   "id": "9a47740b",
   "metadata": {},
   "source": [
    "# 1.How many seconds are in an hour? Use the interactive interpreter as a calculator and multiply the number of seconds in a minute (60) by the number of minutes in an hour (also 60)."
   ]
  },
  {
   "cell_type": "code",
   "execution_count": 8,
   "id": "9066ab2d",
   "metadata": {},
   "outputs": [
    {
     "data": {
      "text/plain": [
       "3600"
      ]
     },
     "execution_count": 8,
     "metadata": {},
     "output_type": "execute_result"
    }
   ],
   "source": [
    "60 * 60"
   ]
  },
  {
   "cell_type": "markdown",
   "id": "0a659f7d",
   "metadata": {},
   "source": [
    "# 2. Assign the result from the previous task (seconds in an hour) to a variable called seconds_per_hour."
   ]
  },
  {
   "cell_type": "code",
   "execution_count": null,
   "id": "942c14e6",
   "metadata": {},
   "outputs": [],
   "source": [
    "seconds_per_hour = 3600"
   ]
  },
  {
   "cell_type": "markdown",
   "id": "475fbe6a",
   "metadata": {},
   "source": [
    "# 3. How many seconds do you think there are in a day? Make use of the variables seconds per hour and minutes per hour."
   ]
  },
  {
   "cell_type": "code",
   "execution_count": 16,
   "id": "e22bb225",
   "metadata": {},
   "outputs": [
    {
     "name": "stdout",
     "output_type": "stream",
     "text": [
      "86400 secs\n"
     ]
    }
   ],
   "source": [
    "seconds_per_hour = 3600\n",
    "minutes_per_hour = 60\n",
    "minutes_per_day = minutes_per_hour *24\n",
    "print(f'{minutes_per_day*60} secs')"
   ]
  },
  {
   "cell_type": "markdown",
   "id": "33e8c821",
   "metadata": {},
   "source": [
    "# 4. Calculate seconds per day again, but this time save the result in a variable called seconds_per_day"
   ]
  },
  {
   "cell_type": "code",
   "execution_count": 20,
   "id": "7b8d12c9",
   "metadata": {},
   "outputs": [
    {
     "name": "stdout",
     "output_type": "stream",
     "text": [
      "86400 secs\n"
     ]
    }
   ],
   "source": [
    "#seconds_per_hour = 3600\n",
    "minutes_per_hour = 60\n",
    "minutes_per_day = minutes_per_hour *24\n",
    "seconds_per_day = minutes_per_day*60\n",
    "print(f'{seconds_per_day} secs')"
   ]
  },
  {
   "cell_type": "markdown",
   "id": "b911eb74",
   "metadata": {},
   "source": [
    "# 5. Divide seconds_per_day by seconds_per_hour. Use floating-point (/) division."
   ]
  },
  {
   "cell_type": "code",
   "execution_count": 19,
   "id": "0d99d564",
   "metadata": {},
   "outputs": [
    {
     "data": {
      "text/plain": [
       "24.0"
      ]
     },
     "execution_count": 19,
     "metadata": {},
     "output_type": "execute_result"
    }
   ],
   "source": [
    "seconds_per_day/seconds_per_hour"
   ]
  },
  {
   "cell_type": "markdown",
   "id": "bd9df89b",
   "metadata": {},
   "source": [
    "# 6. Divide seconds_per_day by seconds_per_hour, using integer (//) division. Did this number agree with the floating-point value from the previous question, aside from the final .0?"
   ]
  },
  {
   "cell_type": "code",
   "execution_count": 22,
   "id": "13fa3329",
   "metadata": {},
   "outputs": [
    {
     "data": {
      "text/plain": [
       "24"
      ]
     },
     "execution_count": 22,
     "metadata": {},
     "output_type": "execute_result"
    }
   ],
   "source": [
    "seconds_per_day//seconds_per_hour . yes."
   ]
  },
  {
   "cell_type": "markdown",
   "id": "0240d4ed",
   "metadata": {},
   "source": [
    "# 7. Write a generator, genPrimes, that returns the sequence of prime numbers on successive calls to its next() method: 2, 3, 5, 7, 11, ..."
   ]
  },
  {
   "cell_type": "code",
   "execution_count": 25,
   "id": "cfd4a4a3",
   "metadata": {},
   "outputs": [],
   "source": [
    "def genPrimes():\n",
    "    prime_nums = []\n",
    "    num = 2\n",
    "    last = num\n",
    "\n",
    "    while True:\n",
    "        for i in prime_nums:\n",
    "            if num % i == 0:\n",
    "                num += 1\n",
    "                break\n",
    "\n",
    "        else:\n",
    "            primes.append(num)\n",
    "            last = num\n",
    "            num += 1\n",
    "            yield last"
   ]
  },
  {
   "cell_type": "code",
   "execution_count": null,
   "id": "2e5c5e0f",
   "metadata": {},
   "outputs": [],
   "source": []
  }
 ],
 "metadata": {
  "kernelspec": {
   "display_name": "Python 3 (ipykernel)",
   "language": "python",
   "name": "python3"
  },
  "language_info": {
   "codemirror_mode": {
    "name": "ipython",
    "version": 3
   },
   "file_extension": ".py",
   "mimetype": "text/x-python",
   "name": "python",
   "nbconvert_exporter": "python",
   "pygments_lexer": "ipython3",
   "version": "3.9.7"
  }
 },
 "nbformat": 4,
 "nbformat_minor": 5
}
